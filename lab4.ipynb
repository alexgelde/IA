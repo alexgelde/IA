{
  "nbformat": 4,
  "nbformat_minor": 0,
  "metadata": {
    "colab": {
      "provenance": [],
      "authorship_tag": "ABX9TyORmbsy3Tvn61gBo0x5ynAG",
      "include_colab_link": true
    },
    "kernelspec": {
      "name": "python3",
      "display_name": "Python 3"
    },
    "language_info": {
      "name": "python"
    }
  },
  "cells": [
    {
      "cell_type": "markdown",
      "metadata": {
        "id": "view-in-github",
        "colab_type": "text"
      },
      "source": [
        "<a href=\"https://colab.research.google.com/github/alexgelde/IA/blob/main/lab4.ipynb\" target=\"_parent\"><img src=\"https://colab.research.google.com/assets/colab-badge.svg\" alt=\"Open In Colab\"/></a>"
      ]
    },
    {
      "cell_type": "code",
      "execution_count": 1,
      "metadata": {
        "colab": {
          "base_uri": "https://localhost:8080/"
        },
        "id": "im93DMPuNj9K",
        "outputId": "6ffe3c82-6339-4b96-9198-869ea98b0013"
      },
      "outputs": [
        {
          "output_type": "stream",
          "name": "stdout",
          "text": [
            "DFS traversal starting from node A:\n",
            "A D H C G F J B I E "
          ]
        }
      ],
      "source": [
        "def dfs(graph, source):\n",
        "    visited = set()\n",
        "    stack = [source]\n",
        "\n",
        "    while stack:\n",
        "        current_node = stack.pop()\n",
        "        if current_node not in visited:\n",
        "            print(current_node, end=' ')\n",
        "            visited.add(current_node)\n",
        "            stack.extend(neighbor for neighbor in graph[current_node] if neighbor not in visited)\n",
        "\n",
        "# Define the graph  using a dictionary\n",
        "\n",
        "graph = {\n",
        "    'A': ['B', 'C', 'D'],\n",
        "    'B': ['E', 'I'],\n",
        "    'C': ['F', 'G'],\n",
        "    'D': ['H'],\n",
        "    'E': ['I'],\n",
        "    'F': ['J'],\n",
        "    'G': [],\n",
        "    'H': [],\n",
        "    'I': [],\n",
        "    'J': [],\n",
        "}\n",
        "\n",
        "\n",
        "# Choose a source node (e.g., 'A') and call the DFS function\n",
        "source_node = 'A'\n",
        "print(f\"DFS traversal starting from node {source_node}:\")\n",
        "dfs(graph, source_node)\n",
        "\n",
        "\n"
      ]
    },
    {
      "cell_type": "code",
      "source": [
        "def dfs_recursive(graph, node, visited):\n",
        "    if node not in visited:\n",
        "        print(node, end=' ')\n",
        "        visited.add(node)\n",
        "        for neighbor in graph[node]:\n",
        "            dfs_recursive(graph, neighbor, visited)\n",
        "\n",
        "# Reset the visited set and choose a source node (e.g., 'A')\n",
        "visited_nodes = set()\n",
        "source_node_recursive = 'A'\n",
        "\n",
        "graph = {\n",
        "    'A': ['B', 'C', 'D'],\n",
        "    'B': ['E', 'I'],\n",
        "    'C': ['F', 'G'],\n",
        "    'D': ['H'],\n",
        "    'E': ['I'],\n",
        "    'F': ['J'],\n",
        "    'G': [],\n",
        "    'H': [],\n",
        "    'I': [],\n",
        "    'J': [],\n",
        "}\n",
        "print(f\"DFS recursive traversal starting from node {source_node_recursive}:\")\n",
        "dfs_recursive(graph, source_node_recursive, visited_nodes)\n",
        "\n"
      ],
      "metadata": {
        "colab": {
          "base_uri": "https://localhost:8080/"
        },
        "id": "kjgc0GIFrYFA",
        "outputId": "028b4aa0-da32-4866-8401-7bd837318eb7"
      },
      "execution_count": null,
      "outputs": [
        {
          "output_type": "stream",
          "name": "stdout",
          "text": [
            "DFS recursive traversal starting from node A:\n",
            "A B E I C F J G D H "
          ]
        }
      ]
    },
    {
      "cell_type": "markdown",
      "source": [
        "# Nueva sección"
      ],
      "metadata": {
        "id": "zDE4p1ZPNnDM"
      }
    }
  ]
}