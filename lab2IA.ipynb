{
  "nbformat": 4,
  "nbformat_minor": 0,
  "metadata": {
    "colab": {
      "provenance": [],
      "authorship_tag": "ABX9TyO0wp7EnDeO+UYJs5XJYo2L",
      "include_colab_link": true
    },
    "kernelspec": {
      "name": "python3",
      "display_name": "Python 3"
    },
    "language_info": {
      "name": "python"
    }
  },
  "cells": [
    {
      "cell_type": "markdown",
      "metadata": {
        "id": "view-in-github",
        "colab_type": "text"
      },
      "source": [
        "<a href=\"https://colab.research.google.com/github/alexgelde/IA/blob/main/lab2IA.ipynb\" target=\"_parent\"><img src=\"https://colab.research.google.com/assets/colab-badge.svg\" alt=\"Open In Colab\"/></a>"
      ]
    },
    {
      "cell_type": "code",
      "execution_count": null,
      "metadata": {
        "colab": {
          "base_uri": "https://localhost:8080/"
        },
        "id": "crofn-TfAKp7",
        "outputId": "f39da727-17bc-453c-ef01-f5eea61d8b8c"
      },
      "outputs": [
        {
          "output_type": "stream",
          "name": "stdout",
          "text": [
            "1 \n",
            "1 2 \n",
            "1 2 3 \n",
            "1 2 3 4 \n",
            "1 2 3 4 5 \n"
          ]
        }
      ],
      "source": [
        "\n",
        "\n",
        "rows = 5\n",
        "\n",
        "for i in range(1, rows + 1):\n",
        "    for j in range(1, i + 1):\n",
        "        print(j, end=\" \")\n",
        "    print()\n"
      ]
    },
    {
      "cell_type": "code",
      "source": [
        "# Get the input from the user\n",
        "number = int(input(\"Enter a number: \"))\n",
        "\n",
        "# Initialize the sum\n",
        "sum_of_numbers = 0\n",
        "\n",
        "# Calculate the sum of numbers from 1 to the given number\n",
        "for i in range(1, number + 1):\n",
        "    sum_of_numbers += i\n",
        "\n",
        "# Print the result\n",
        "print(\"Sum is:\", sum_of_numbers)\n"
      ],
      "metadata": {
        "colab": {
          "base_uri": "https://localhost:8080/"
        },
        "id": "gG7lrlFtA_Qi",
        "outputId": "110b2bdd-8646-4218-961b-d0c3ef18d398"
      },
      "execution_count": null,
      "outputs": [
        {
          "output_type": "stream",
          "name": "stdout",
          "text": [
            "Enter a number: 4\n",
            "Sum is: 10\n"
          ]
        }
      ]
    },
    {
      "cell_type": "code",
      "source": [
        "user_number = int(input(\" Please enter a number: \"))\n",
        "\n",
        "count = 0\n",
        "\n",
        "while user_number != 0:\n",
        "    user_number = user_number // 10\n",
        "    count = count + 1\n",
        "\n",
        "print(f\"The total number of digits in your number is: {count}\")\n",
        "\n",
        "\n",
        "\n",
        "\n"
      ],
      "metadata": {
        "colab": {
          "base_uri": "https://localhost:8080/"
        },
        "id": "4VbolDhfJWn9",
        "outputId": "eab5414b-93fd-448a-9a94-50edca8159fc"
      },
      "execution_count": null,
      "outputs": [
        {
          "output_type": "stream",
          "name": "stdout",
          "text": [
            "Hello! Please enter a number: 8876\n",
            "Great! The total number of digits in your number is: 4\n"
          ]
        }
      ]
    },
    {
      "cell_type": "code",
      "source": [
        "rows = 5\n",
        "\n",
        "for i in range(rows, 0, -1):\n",
        "    for j in range(i, 0, -1):\n",
        "        print(j, end=' ')\n",
        "    print()\n"
      ],
      "metadata": {
        "colab": {
          "base_uri": "https://localhost:8080/"
        },
        "id": "oUBMkmxjXgpP",
        "outputId": "c077bd09-8bd5-4846-93c6-4fc57aed51ef"
      },
      "execution_count": null,
      "outputs": [
        {
          "output_type": "stream",
          "name": "stdout",
          "text": [
            "5 4 3 2 1 \n",
            "4 3 2 1 \n",
            "3 2 1 \n",
            "2 1 \n",
            "1 \n"
          ]
        }
      ]
    },
    {
      "cell_type": "code",
      "source": [
        "list1 = [10, 20, 30, 40, 50]\n",
        "\n",
        "for element in reversed(list1):\n",
        "    print(element)\n"
      ],
      "metadata": {
        "colab": {
          "base_uri": "https://localhost:8080/"
        },
        "id": "oQcareSyYCD2",
        "outputId": "f34a51c4-b28e-41f2-ee84-8b7b057b8441"
      },
      "execution_count": null,
      "outputs": [
        {
          "output_type": "stream",
          "name": "stdout",
          "text": [
            "50\n",
            "40\n",
            "30\n",
            "20\n",
            "10\n"
          ]
        }
      ]
    },
    {
      "cell_type": "code",
      "source": [
        "for i in range(-10,0):\n",
        "  print(i)"
      ],
      "metadata": {
        "colab": {
          "base_uri": "https://localhost:8080/"
        },
        "id": "iiJk06VeYn0k",
        "outputId": "5712b41a-b38c-4f5c-99c3-1d8ddd174360"
      },
      "execution_count": null,
      "outputs": [
        {
          "output_type": "stream",
          "name": "stdout",
          "text": [
            "-10\n",
            "-9\n",
            "-8\n",
            "-7\n",
            "-6\n",
            "-5\n",
            "-4\n",
            "-3\n",
            "-2\n",
            "-1\n"
          ]
        }
      ]
    },
    {
      "cell_type": "code",
      "source": [
        "my_list = [10, 20, 30, 40, 50, 60, 70, 80, 90, 100]\n",
        "\n",
        "for i in range(1,len(my_list), 2):\n",
        "  print(my_list[i])"
      ],
      "metadata": {
        "colab": {
          "base_uri": "https://localhost:8080/"
        },
        "id": "hAGhELeOY_K8",
        "outputId": "a5e677ba-c84b-4758-cc94-8b2d49c66e24"
      },
      "execution_count": null,
      "outputs": [
        {
          "output_type": "stream",
          "name": "stdout",
          "text": [
            "20\n",
            "40\n",
            "60\n",
            "80\n",
            "100\n"
          ]
        }
      ]
    },
    {
      "cell_type": "code",
      "source": [
        "import numpy as np\n",
        "\n",
        "\n",
        "sampleArray = np.array([[34, 43, 73], [82, 22, 12], [53, 94, 66]])\n",
        "\n",
        "# Case 1: Sort array by the second row\n",
        "print(\"Printing Original array\")\n",
        "print(sampleArray)\n",
        "\n",
        "# Get indices that would sort the second row\n",
        "sorted_indices_row = np.argsort(sampleArray[1, :])\n",
        "\n",
        "# Use the sorted indices to rearrange the rows\n",
        "sorted_array_row = sampleArray[:, sorted_indices_row]\n",
        "\n",
        "print(\"\\nSorting Original array by second row\")\n",
        "print(sorted_array_row)\n",
        "\n",
        "# Case 2: Sort the array by the second column\n",
        "# Get indices that would sort the second column\n",
        "sorted_indices_column = np.argsort(sampleArray[:, 1])\n",
        "\n",
        "# Use the sorted indices to rearrange the columns\n",
        "sorted_array_column = sampleArray[sorted_indices_column, :]\n",
        "\n",
        "print(\"\\nSorting Original array by second column\")\n",
        "print(sorted_array_column)\n"
      ],
      "metadata": {
        "colab": {
          "base_uri": "https://localhost:8080/"
        },
        "id": "Udj0GhihffgS",
        "outputId": "08049018-9f0c-4e45-fd7d-ae59904fece5"
      },
      "execution_count": null,
      "outputs": [
        {
          "output_type": "stream",
          "name": "stdout",
          "text": [
            "Printing Original array\n",
            "[[34 43 73]\n",
            " [82 22 12]\n",
            " [53 94 66]]\n",
            "\n",
            "Sorting Original array by second row\n",
            "[[73 43 34]\n",
            " [12 22 82]\n",
            " [66 94 53]]\n",
            "\n",
            "Sorting Original array by second column\n",
            "[[82 22 12]\n",
            " [34 43 73]\n",
            " [53 94 66]]\n"
          ]
        }
      ]
    },
    {
      "cell_type": "code",
      "source": [
        "import random\n",
        "import string\n",
        "\n",
        "def generate_random_string(length=5):\n",
        "    # Define the set of characters (uppercase and lowercase letters)\n",
        "    characters = string.ascii_letters\n",
        "\n",
        "    # Generate a random string of the specified length\n",
        "    random_string = ''.join(random.choice(characters) for _ in range(length))\n",
        "\n",
        "    return random_string\n",
        "\n",
        "# Example usage\n",
        "random_string = generate_random_string()\n",
        "print(random_string)\n"
      ],
      "metadata": {
        "colab": {
          "base_uri": "https://localhost:8080/"
        },
        "id": "qAlu0rCyf91Z",
        "outputId": "63f2ca62-bcbd-46bf-8239-1cc89d8ff6a2"
      },
      "execution_count": null,
      "outputs": [
        {
          "output_type": "stream",
          "name": "stdout",
          "text": [
            "uspOR\n"
          ]
        }
      ]
    },
    {
      "cell_type": "code",
      "source": [
        "import random\n",
        "import string\n",
        "\n",
        "def generate_random_password():\n",
        "\n",
        "    # Define the set of characters for each category\n",
        "    uppercase_letters = string.ascii_uppercase\n",
        "    lowercase_letters = string.ascii_lowercase\n",
        "    digits = string.digits\n",
        "    special_symbols = string.punctuation\n",
        "\n",
        "    # Ensure at least 2 uppercase letters\n",
        "    password = random.choices(uppercase_letters, k=2)\n",
        "\n",
        "    # Add at least 1 digit\n",
        "    password.extend(random.choice(digits))\n",
        "\n",
        "    # Add at least 1 special symbol\n",
        "    password.extend(random.choice(special_symbols))\n",
        "\n",
        "    # Fill the remaining characters with a combination of lowercase letters, digits, and special symbols\n",
        "    remaining_length = 10 - len(password)\n",
        "    password.extend(random.choices(string.ascii_letters + string.digits + string.punctuation, k=remaining_length))\n",
        "\n",
        "    # Shuffle the password to make it random\n",
        "    random.shuffle(password)\n",
        "\n",
        "    # Convert the list of characters to a string\n",
        "    password = ''.join(password)\n",
        "\n",
        "    return password\n",
        "\n",
        "# Example usage\n",
        "random_password = generate_random_password()\n",
        "print(random_password)\n"
      ],
      "metadata": {
        "colab": {
          "base_uri": "https://localhost:8080/"
        },
        "id": "zT3XPinygM7s",
        "outputId": "552c7dec-4077-4857-8c13-8f4f2e4279f4"
      },
      "execution_count": null,
      "outputs": [
        {
          "output_type": "stream",
          "name": "stdout",
          "text": [
            "[1_+^;AkSW\n"
          ]
        }
      ]
    }
  ]
}